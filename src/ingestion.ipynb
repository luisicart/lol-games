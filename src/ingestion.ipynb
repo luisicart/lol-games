{
 "cells": [
  {
   "cell_type": "code",
   "execution_count": 21,
   "metadata": {},
   "outputs": [],
   "source": [
    "from dotenv import load_dotenv\n",
    "import os\n",
    "import requests \n",
    "import pandas as pd\n",
    "\n",
    "load_dotenv()\n",
    "api_key = os.environ.get('riot_api_key')"
   ]
  },
  {
   "cell_type": "code",
   "execution_count": 26,
   "metadata": {},
   "outputs": [],
   "source": [
    "root = \"https://br1.api.riotgames.com/\"\n",
    "challenger = \"lol/league/v4/challengerleagues/by-queue/RANKED_SOLO_5x5\""
   ]
  },
  {
   "cell_type": "code",
   "execution_count": 29,
   "metadata": {},
   "outputs": [],
   "source": [
    "# teste\n",
    "\n",
    "response = requests.get(root + challenger + \"?api_key=\" + api_key)"
   ]
  },
  {
   "cell_type": "code",
   "execution_count": 30,
   "metadata": {},
   "outputs": [
    {
     "data": {
      "text/html": [
       "<div>\n",
       "<style scoped>\n",
       "    .dataframe tbody tr th:only-of-type {\n",
       "        vertical-align: middle;\n",
       "    }\n",
       "\n",
       "    .dataframe tbody tr th {\n",
       "        vertical-align: top;\n",
       "    }\n",
       "\n",
       "    .dataframe thead th {\n",
       "        text-align: right;\n",
       "    }\n",
       "</style>\n",
       "<table border=\"1\" class=\"dataframe\">\n",
       "  <thead>\n",
       "    <tr style=\"text-align: right;\">\n",
       "      <th></th>\n",
       "      <th>summonerId</th>\n",
       "      <th>leaguePoints</th>\n",
       "      <th>rank</th>\n",
       "      <th>wins</th>\n",
       "      <th>losses</th>\n",
       "      <th>veteran</th>\n",
       "      <th>inactive</th>\n",
       "      <th>freshBlood</th>\n",
       "      <th>hotStreak</th>\n",
       "    </tr>\n",
       "  </thead>\n",
       "  <tbody>\n",
       "    <tr>\n",
       "      <th>0</th>\n",
       "      <td>H__wewYepstHRRtC-SKpaUd59ppuUYDDv50mSubyrEo-Rg</td>\n",
       "      <td>566</td>\n",
       "      <td>I</td>\n",
       "      <td>98</td>\n",
       "      <td>66</td>\n",
       "      <td>False</td>\n",
       "      <td>False</td>\n",
       "      <td>True</td>\n",
       "      <td>False</td>\n",
       "    </tr>\n",
       "    <tr>\n",
       "      <th>1</th>\n",
       "      <td>krF_JeWAbN5BvYA2VvPLGXe1yHbKPj5bP_QxAmevlHuxu5A</td>\n",
       "      <td>797</td>\n",
       "      <td>I</td>\n",
       "      <td>68</td>\n",
       "      <td>29</td>\n",
       "      <td>False</td>\n",
       "      <td>False</td>\n",
       "      <td>False</td>\n",
       "      <td>True</td>\n",
       "    </tr>\n",
       "    <tr>\n",
       "      <th>2</th>\n",
       "      <td>1I7d2Qfzkd72ziyjP-6dBCrXQsgihUbOO74dKGUQ2Ugl9Q</td>\n",
       "      <td>816</td>\n",
       "      <td>I</td>\n",
       "      <td>98</td>\n",
       "      <td>61</td>\n",
       "      <td>False</td>\n",
       "      <td>False</td>\n",
       "      <td>True</td>\n",
       "      <td>False</td>\n",
       "    </tr>\n",
       "    <tr>\n",
       "      <th>3</th>\n",
       "      <td>-K-qsxFJESiZeW4QQZ6mjm7zJ2LXIKHORPXyAYPWKkHvFx...</td>\n",
       "      <td>858</td>\n",
       "      <td>I</td>\n",
       "      <td>77</td>\n",
       "      <td>37</td>\n",
       "      <td>False</td>\n",
       "      <td>False</td>\n",
       "      <td>False</td>\n",
       "      <td>False</td>\n",
       "    </tr>\n",
       "    <tr>\n",
       "      <th>4</th>\n",
       "      <td>ApdCnLoui9j4frglyncUQ7aIunWdE_cionpjNVsi-rG-qr8</td>\n",
       "      <td>620</td>\n",
       "      <td>I</td>\n",
       "      <td>85</td>\n",
       "      <td>48</td>\n",
       "      <td>False</td>\n",
       "      <td>False</td>\n",
       "      <td>True</td>\n",
       "      <td>False</td>\n",
       "    </tr>\n",
       "  </tbody>\n",
       "</table>\n",
       "</div>"
      ],
      "text/plain": [
       "                                          summonerId  leaguePoints rank  wins  \\\n",
       "0     H__wewYepstHRRtC-SKpaUd59ppuUYDDv50mSubyrEo-Rg           566    I    98   \n",
       "1    krF_JeWAbN5BvYA2VvPLGXe1yHbKPj5bP_QxAmevlHuxu5A           797    I    68   \n",
       "2     1I7d2Qfzkd72ziyjP-6dBCrXQsgihUbOO74dKGUQ2Ugl9Q           816    I    98   \n",
       "3  -K-qsxFJESiZeW4QQZ6mjm7zJ2LXIKHORPXyAYPWKkHvFx...           858    I    77   \n",
       "4    ApdCnLoui9j4frglyncUQ7aIunWdE_cionpjNVsi-rG-qr8           620    I    85   \n",
       "\n",
       "   losses  veteran  inactive  freshBlood  hotStreak  \n",
       "0      66    False     False        True      False  \n",
       "1      29    False     False       False       True  \n",
       "2      61    False     False        True      False  \n",
       "3      37    False     False       False      False  \n",
       "4      48    False     False        True      False  "
      ]
     },
     "execution_count": 30,
     "metadata": {},
     "output_type": "execute_result"
    }
   ],
   "source": [
    "chall_df = pd.DataFrame(response.json()['entries'])\n",
    "chall_df.head()"
   ]
  }
 ],
 "metadata": {
  "kernelspec": {
   "display_name": "venv",
   "language": "python",
   "name": "python3"
  },
  "language_info": {
   "codemirror_mode": {
    "name": "ipython",
    "version": 3
   },
   "file_extension": ".py",
   "mimetype": "text/x-python",
   "name": "python",
   "nbconvert_exporter": "python",
   "pygments_lexer": "ipython3",
   "version": "3.11.9"
  }
 },
 "nbformat": 4,
 "nbformat_minor": 2
}
