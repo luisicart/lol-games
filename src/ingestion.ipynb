{
 "cells": [
  {
   "cell_type": "code",
   "execution_count": 1,
   "metadata": {},
   "outputs": [],
   "source": [
    "from dotenv import load_dotenv\n",
    "import os\n",
    "import pandas as pd\n",
    "import sqlalchemy\n",
    "\n",
    "import requests as requests\n",
    "\n",
    "import httpx \n",
    "from functools import partial\n",
    "from asyncio import gather, run\n",
    "from aiometer import run_all"
   ]
  },
  {
   "cell_type": "code",
   "execution_count": 114,
   "metadata": {},
   "outputs": [],
   "source": [
    "load_dotenv()\n",
    "api_key = os.environ.get('riot_api_key')\n",
    "limit_requests_per_second = 0.8 # half from api documentation"
   ]
  },
  {
   "cell_type": "code",
   "execution_count": 3,
   "metadata": {},
   "outputs": [],
   "source": [
    "engine = sqlalchemy.create_engine(\"sqlite:///../data/database.db\")"
   ]
  },
  {
   "cell_type": "code",
   "execution_count": 100,
   "metadata": {},
   "outputs": [],
   "source": [
    "# funcao para leaderboard\n",
    "\n",
    "def get_soloq_leaderboard(top=None):\n",
    "\n",
    "    root = \"https://br1.api.riotgames.com/\"\n",
    "\n",
    "    endpoints = {\n",
    "        \"challenger_endpoint\": \"lol/league/v4/challengerleagues/by-queue/RANKED_SOLO_5x5\",\n",
    "        \"grandmaster_endpoint\": \"lol/league/v4/grandmasterleagues/by-queue/RANKED_SOLO_5x5\",\n",
    "        \"master_endpoint\": \"lol/league/v4/masterleagues/by-queue/RANKED_SOLO_5x5\"\n",
    "    }\n",
    "\n",
    "    responses = {}  \n",
    "\n",
    "    dataframes = {}\n",
    "\n",
    "    for name, endpoint in endpoints.items():\n",
    "        response = requests.get(f\"{root}{endpoint}?api_key={api_key}\")\n",
    "        responses[f\"{name}_response\"] = response\n",
    "\n",
    "    for name, response in responses.items():\n",
    "        rank_name = name.split('_')[0]\n",
    "        df = pd.DataFrame(response.json()['entries'])\n",
    "        dataframes[f'{rank_name}_df'] = df\n",
    "\n",
    "    leaderboard_df = (\n",
    "        pd.concat(dataframes.values(), ignore_index=True)\n",
    "        .drop(columns='rank')  \n",
    "        .sort_values('leaguePoints', ascending=False)  \n",
    "        .reset_index(drop=True)  \n",
    "        .rename_axis('rank').reset_index()  \n",
    "        .sort_values('rank', ascending=True)  \n",
    "        .query('leaguePoints > 0')\n",
    "        .rename(\n",
    "            columns={\n",
    "            'summonerId': 'summoner_id',\n",
    "            'leaguePoints': 'league_points',\n",
    "            'freshBlood': 'fresh_blood',\n",
    "            'hotStreak': 'hot_streak',\n",
    "        })\n",
    "    )\n",
    "    \n",
    "    leaderboard_df['rank'] += 1\n",
    "\n",
    "    return leaderboard_df"
   ]
  },
  {
   "cell_type": "code",
   "execution_count": 101,
   "metadata": {},
   "outputs": [],
   "source": [
    "df_leaderboard = get_soloq_leaderboard()\n",
    "\n",
    "# df_leaderboard.to_sql(\"tb_leaderboard\", engine, if_exists=\"replace\", index=False)"
   ]
  },
  {
   "cell_type": "code",
   "execution_count": 105,
   "metadata": {},
   "outputs": [],
   "source": [
    "summoners = df_leaderboard['summoner_id'].to_list()"
   ]
  },
  {
   "cell_type": "code",
   "execution_count": null,
   "metadata": {},
   "outputs": [],
   "source": [
    "# async def get_puuid(summoner_id, nr_matches):\n",
    "#     async with httpx.AsyncClient(base_url='https://br1.api.riotgames.com') as client:\n",
    "\n",
    "#         response = await client.get(f'lol/summoner/v4/summoners/{summoner_id}?api_key={api_key}')\n",
    "#         print('Get puuid: ', response.status_code)\n",
    "#         puuid = response.json().get('puuid')\n",
    "\n",
    "#         response = await client.get(f'https://americas.api.riotgames.com/lol/match/v5/matches/by-puuid/{puuid}/ids?start=0&count={nr_matches}&api_key={api_key}')\n",
    "#         print('Get matches: ', response.status_code)\n",
    "#         matches = response.json()\n",
    "\n",
    "#         return {\n",
    "#             \"summoner_id\": summoner_id,\n",
    "#             \"puuid\": puuid,\n",
    "#             \"nr_matches\": len(matches),\n",
    "#             \"matches\": matches,\n",
    "#         }\n",
    "    \n",
    "# async def get_match_info(match_id):\n",
    "#     async with httpx.AsyncClient(base_url='https://americas.api.riotgames.com') as client:\n",
    "\n",
    "#         response = await client.get(f'lol/match/v5/matches/{match_id}?api_key={api_key}')\n",
    "#         print(\"Get match info\", response.status_code)\n",
    "#         match_info = response.json()\n",
    "\n",
    "#         return {\"match_id\": match_id, **match_info}\n",
    "\n",
    "# async def main():\n",
    "#     puuid_result = await run_all(\n",
    "#         [partial(get_puuid, summoner_id, 20) for summoner_id in summoners],    \n",
    "#         max_per_second=limit_requests_per_second,\n",
    "#         max_at_once=3  \n",
    "#     )\n",
    "\n",
    "#     df_account = pd.DataFrame(puuid_result)\n",
    "\n",
    "#     all_match_ids = [match for matches in df_account[\"matches\"] for match in matches]\n",
    "#     match_details = await run_all(\n",
    "#         [partial(get_match_info, match_id) for match_id in all_match_ids],\n",
    "#         max_per_second=limit_requests_per_second,\n",
    "#         max_at_once=3\n",
    "#     )\n",
    "\n",
    "#     df_match_details = pd.DataFrame(match_details)\n",
    "\n",
    "#     return df_account, df_match_details"
   ]
  },
  {
   "cell_type": "code",
   "execution_count": null,
   "metadata": {},
   "outputs": [],
   "source": [
    "async def get_puuid(summoner_id, nr_matches):\n",
    "    async with httpx.AsyncClient(base_url='https://br1.api.riotgames.com') as client:\n",
    "\n",
    "        response = await client.get(f'lol/summoner/v4/summoners/{summoner_id}?api_key={api_key}')\n",
    "        print('Get puuid: ', response.status_code)\n",
    "        puuid = response.json().get('puuid')\n",
    "\n",
    "        response = await client.get(f'https://americas.api.riotgames.com/lol/match/v5/matches/by-puuid/{puuid}/ids?start=0&count={nr_matches}&api_key={api_key}')\n",
    "        print('Get matches: ', response.status_code)\n",
    "        matches = response.json()\n",
    "\n",
    "        return {\n",
    "            \"summoner_id\": summoner_id,\n",
    "            \"puuid\": puuid,\n",
    "            \"nr_matches\": len(matches),\n",
    "            \"matches\": matches,\n",
    "        }\n",
    "    \n",
    "async def get_match_info(match_id):\n",
    "    async with httpx.AsyncClient(base_url='https://americas.api.riotgames.com') as client:\n",
    "\n",
    "        response = await client.get(f'lol/match/v5/matches/{match_id}?api_key={api_key}')\n",
    "        print(\"Get match info\", response.status_code)\n",
    "        match_info = response.json()\n",
    "\n",
    "        return {\"match_id\": match_id, **match_info}\n",
    "\n",
    "async def main():\n",
    "    puuid_result = await run_all(\n",
    "        [partial(get_puuid, summoner_id, 20) for summoner_id in summoners],    \n",
    "        max_per_second=limit_requests_per_second,\n",
    "        max_at_once=3  \n",
    "    )\n",
    "\n",
    "    df_account = pd.DataFrame(puuid_result)\n",
    "\n",
    "    return df_account"
   ]
  },
  {
   "cell_type": "code",
   "execution_count": null,
   "metadata": {},
   "outputs": [],
   "source": [
    "df_matches_per_puuid = await main()"
   ]
  },
  {
   "cell_type": "code",
   "execution_count": null,
   "metadata": {},
   "outputs": [],
   "source": [
    "async def get_match_info(match_id):\n",
    "    async with httpx.AsyncClient(base_url='https://americas.api.riotgames.com') as client:\n",
    "\n",
    "        response = await client.get(f'lol/match/v5/matches/{match_id}?api_key={api_key}')\n",
    "        print(\"Get match info\", response.status_code)\n",
    "        match_info = response.json()\n",
    "\n",
    "        return {\"match_id\": match_id, **match_info}\n",
    "    \n",
    "async def main():\n",
    "\n",
    "    all_match_ids = [match for matches in df_matches_per_puuid[\"matches\"] for match in matches]\n",
    "    match_details = await run_all(\n",
    "        [partial(get_match_info, match_id) for match_id in all_match_ids],\n",
    "        max_per_second=limit_requests_per_second,\n",
    "        max_at_once=3\n",
    "    )\n",
    "\n",
    "    df_match_details = pd.DataFrame(match_details)\n",
    "\n",
    "    return df_match_details"
   ]
  },
  {
   "cell_type": "code",
   "execution_count": null,
   "metadata": {},
   "outputs": [],
   "source": [
    "df_match_info = await main()"
   ]
  }
 ],
 "metadata": {
  "kernelspec": {
   "display_name": "venv",
   "language": "python",
   "name": "python3"
  },
  "language_info": {
   "codemirror_mode": {
    "name": "ipython",
    "version": 3
   },
   "file_extension": ".py",
   "mimetype": "text/x-python",
   "name": "python",
   "nbconvert_exporter": "python",
   "pygments_lexer": "ipython3",
   "version": "3.11.9"
  }
 },
 "nbformat": 4,
 "nbformat_minor": 2
}
